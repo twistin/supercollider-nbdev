{
 "cells": [
  {
   "cell_type": "markdown",
   "id": "e631a5d7",
   "metadata": {},
   "source": [
    "## Semana 1: Conceptos básicos "
   ]
  },
  {
   "cell_type": "code",
   "execution_count": null,
   "id": "051f0f53",
   "metadata": {},
   "outputs": [],
   "source": []
  }
 ],
 "metadata": {
  "kernelspec": {
   "display_name": "Python 3 (ipykernel)",
   "language": "python",
   "name": "python3"
  },
  "language_info": {
   "codemirror_mode": {
    "name": "ipython",
    "version": 3
   },
   "file_extension": ".py",
   "mimetype": "text/x-python",
   "name": "python",
   "nbconvert_exporter": "python",
   "pygments_lexer": "ipython3",
   "version": "3.9.13"
  }
 },
 "nbformat": 4,
 "nbformat_minor": 5
}
