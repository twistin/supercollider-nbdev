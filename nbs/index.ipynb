{
 "cells": [
  {
   "cell_type": "code",
   "execution_count": null,
   "metadata": {},
   "outputs": [],
   "source": [
    "#| hide\n",
    "from SuperCollider_nbdev.core import *"
   ]
  },
  {
   "cell_type": "markdown",
   "metadata": {},
   "source": [
    "# SuperCollider-nbdev\n",
    "\n"
   ]
  },
  {
   "cell_type": "markdown",
   "metadata": {},
   "source": [
    "![](imagenes/logo_sc.png)"
   ]
  },
  {
   "cell_type": "markdown",
   "metadata": {},
   "source": [
    "Este curso presenta SuperCollider (SC), un entorno de programación gratuito, de código abierto y multiplataforma para la síntesis de audio digital en tiempo real y la composición algorítmica. SuperCollider es un miembro de una familia de plataformas de programación de audio que han sido creadas y desarrolladas en las últimas décadas, que incluye Csound, Max/MSP, Pure Data, Kyma, ChucK, RTcmix, Sonic Pi, TidalCycles, FoxDot, y muchas otras. Estas plataformas pueden describirse como cajas de arena de audio; sus objetos, clases y métodos están diseñados específicamente para aplicaciones de sonido, y existen dentro de un entorno altamente flexible y modular. Como resultado, estos tipos de programas ofrecen un potencial considerablemente más profundo para el trabajo creativo y experimental en comparación con el software DAW y otros tipos de software basados en la línea de tiempo/pistas."
   ]
  },
  {
   "cell_type": "markdown",
   "metadata": {},
   "source": [
    "## Instalar SuperCollider =>"
   ]
  },
  {
   "cell_type": "markdown",
   "metadata": {},
   "source": [
    "\n",
    "\n",
    "[Descargar Supercollider ](https://supercollider.github.io/downloads)\n"
   ]
  },
  {
   "cell_type": "markdown",
   "metadata": {},
   "source": [
    "## Aprender más"
   ]
  },
  {
   "cell_type": "markdown",
   "metadata": {},
   "source": [
    "Los documentos oficiales se pueden ver en el navegador de documentación integrado de SuperCollider IDE. También puede verlos en línea en doc.sccode.org. Recomendamos los siguientes recursos para aprender SC:"
   ]
  },
  {
   "cell_type": "markdown",
   "metadata": {},
   "source": [
    "- [A Gentle Introduction to SuperCollider, a free ebook by Bruno Ruviaro](https://works.bepress.com/bruno-ruviaro/3/)\n",
    "- [Eli Fieldsteel's video tutorials](https://www.youtube.com/playlist?list=PLPYzvS8A_rTaNDweXe6PX4CXSGq4iEWYC)\n",
    "- [Getting Started with SC ](http://doc.sccode.org/Tutorials/Getting-Started/00-Getting-Started-With-SC.html)\n",
    "- [Nick Collins' SC tutorial](https://composerprogrammer.com/teaching/supercollider/sctutorial/tutorial.html)\n",
    "- [SCCode.org, a repository of user-submitted examples ](http://sccode.org/)"
   ]
  },
  {
   "cell_type": "code",
   "execution_count": null,
   "metadata": {},
   "outputs": [],
   "source": []
  }
 ],
 "metadata": {
  "kernelspec": {
   "display_name": "Python 3 (ipykernel)",
   "language": "python",
   "name": "python3"
  },
  "language_info": {
   "codemirror_mode": {
    "name": "ipython",
    "version": 3
   },
   "file_extension": ".py",
   "mimetype": "text/x-python",
   "name": "python",
   "nbconvert_exporter": "python",
   "pygments_lexer": "ipython3",
   "version": "3.9.13"
  }
 },
 "nbformat": 4,
 "nbformat_minor": 4
}
