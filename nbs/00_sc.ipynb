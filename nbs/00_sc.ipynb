{
 "cells": [
  {
   "cell_type": "markdown",
   "metadata": {},
   "source": [
    "# Índice\n",
    "\n",
    "> Fill in a module description here"
   ]
  },
  {
   "cell_type": "code",
   "execution_count": 3,
   "metadata": {},
   "outputs": [],
   "source": [
    "#| default_exp sc"
   ]
  },
  {
   "cell_type": "code",
   "execution_count": 4,
   "metadata": {},
   "outputs": [],
   "source": [
    "#| hide\n",
    "import nbdev; nbdev.nbdev_export()"
   ]
  },
  {
   "cell_type": "markdown",
   "metadata": {},
   "source": [
    "## Plan de estudio"
   ]
  },
  {
   "cell_type": "markdown",
   "metadata": {},
   "source": [
    "### Curso: Introducción a SuperCollider en educación\n",
    "\n",
    "- Semana 1: Conceptos básicos de programación\n",
    "Introducción a SuperCollider y su uso en la creación y producción de música\n",
    "Conceptos básicos de programación: Variables, bucles y funciones\n",
    "Ejemplos de código en SuperCollider que ilustran los conceptos básicos de programación\n",
    "Actividad práctica: Creación de pequeñas composiciones utilizando variables, bucles y funciones.\n",
    "\n",
    "- Semana 2: Avanzando en SuperCollider\n",
    "Uso de controladores externos para controlar SuperCollider\n",
    "SynthDefs y UGens para la creación de sintetizadores personalizados\n",
    "Efectos y procesamiento de audio en SuperCollider\n",
    "Sincronización y arreglos en tiempo real en SuperCollider\n",
    "Actividades prácticas que apliquen los conceptos aprendidos durante la semana.\n",
    "\n",
    "- Semana 3: Técnicas avanzadas de programación y producción en SuperCollider\n",
    "Uso de patrones y generadores de eventos para crear secuencias complejas\n",
    "Integración de sonidos y samples en la producción musical\n",
    "Técnicas avanzadas de programación en SuperCollider\n",
    "Actividades prácticas que apliquen los conceptos aprendidos durante la semana.\n",
    "\n",
    "- Semana 4: Creación de composiciones y proyectos en SuperCollider\n",
    "Desarrollo de proyectos en SuperCollider utilizando los conceptos y técnicas aprendidos durante el curso\n",
    "Revisión y evaluación de las composiciones y proyectos creados durante el curso\n",
    "Discusión sobre el futuro y las posibilidades de SuperCollider en la creación y producción de música."
   ]
  },
  {
   "cell_type": "code",
   "execution_count": null,
   "metadata": {},
   "outputs": [],
   "source": []
  }
 ],
 "metadata": {
  "kernelspec": {
   "display_name": "Python 3 (ipykernel)",
   "language": "python",
   "name": "python3"
  },
  "language_info": {
   "codemirror_mode": {
    "name": "ipython",
    "version": 3
   },
   "file_extension": ".py",
   "mimetype": "text/x-python",
   "name": "python",
   "nbconvert_exporter": "python",
   "pygments_lexer": "ipython3",
   "version": "3.9.13"
  }
 },
 "nbformat": 4,
 "nbformat_minor": 4
}
